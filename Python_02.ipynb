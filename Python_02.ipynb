{
  "nbformat": 4,
  "nbformat_minor": 0,
  "metadata": {
    "colab": {
      "name": "Python 02.ipynb",
      "provenance": [],
      "collapsed_sections": [
        "52gflV9JosSz",
        "tc8omotYowkO"
      ],
      "include_colab_link": true
    },
    "kernelspec": {
      "name": "python3",
      "display_name": "Python 3"
    }
  },
  "cells": [
    {
      "cell_type": "markdown",
      "metadata": {
        "id": "view-in-github",
        "colab_type": "text"
      },
      "source": [
        "<a href=\"https://colab.research.google.com/github/BeSon0302/18600232_18600322_18600174/blob/master/Python_02.ipynb\" target=\"_parent\"><img src=\"https://colab.research.google.com/assets/colab-badge.svg\" alt=\"Open In Colab\"/></a>"
      ]
    },
    {
      "cell_type": "markdown",
      "metadata": {
        "id": "wTc02PQEslqv"
      },
      "source": [
        "# Bài tập"
      ]
    },
    {
      "cell_type": "markdown",
      "metadata": {
        "id": "011koRxnsn5F"
      },
      "source": [
        "### B-1\n",
        "Tìm phần tử lớn nhất trong mảng hai chiều"
      ]
    },
    {
      "cell_type": "code",
      "metadata": {
        "id": "YQzIBtosslJ1"
      },
      "source": [
        "def max2d_array(arr):\n",
        "  Max=0\n",
        "  ind=len(arr)-1 \n",
        "  for i in range(0,ind):\n",
        "    t=max(arr[i])\n",
        "    if t>Max:\n",
        "      Max=t\n",
        "  print(\"Phan tu lon nhat cua mang 2 chieu la:\",Max)"
      ],
      "execution_count": 25,
      "outputs": []
    },
    {
      "cell_type": "code",
      "metadata": {
        "id": "wopRz0jtstfY",
        "outputId": "2772c714-5007-417f-d38e-200935398095",
        "colab": {
          "base_uri": "https://localhost:8080/"
        }
      },
      "source": [
        "arr = [\n",
        "    [1, 2, 5],\n",
        "    [3 , 5, 9],\n",
        "    [2,7,10,],\n",
        "    [9, 8, -3]\n",
        "]\n",
        "max2d_array(arr)"
      ],
      "execution_count": 26,
      "outputs": [
        {
          "output_type": "stream",
          "text": [
            "Phan tu lon nhat cua mang 2 chieu la: 10\n"
          ],
          "name": "stdout"
        }
      ]
    },
    {
      "cell_type": "markdown",
      "metadata": {
        "id": "cL_LP-tYt3Mj"
      },
      "source": [
        "### B-2\n",
        "Tạo ngẫu nhiên 5 sinh viên theo cấu trúc sau:"
      ]
    },
    {
      "cell_type": "code",
      "metadata": {
        "id": "Lo1mGxHduBLd"
      },
      "source": [
        "class_a = {\n",
        "    'sinhvien1': {\n",
        "        \"hovaten\": \"Nguyen Van A\",\n",
        "        \"tuoi\": 20,\n",
        "        \"diem\": [7,8.5,9]\n",
        "    },\n",
        "    'sinhvien2': {\n",
        "        \"hovaten\": \"Nguyen Van B\",\n",
        "        \"tuoi\": 20,\n",
        "        \"diem\": [7,8.5,9]\n",
        "    },\n",
        "    'sinhvien3': {\n",
        "        \"hovaten\": \"Nguyen Van C\",\n",
        "        \"tuoi\": 20,\n",
        "        \"diem\": [7,8.5,9]\n",
        "    },\n",
        "    'sinhvien4': {\n",
        "        \"hovaten\": \"Nguyen Van D\",\n",
        "        \"tuoi\": 20,\n",
        "        \"diem\": [7,8.5,9]\n",
        "    },\n",
        "    'sinhvien5': {\n",
        "        \"hovaten\": \"Nguyen Van E\",\n",
        "        \"tuoi\": 20,\n",
        "        \"diem\": [7,8.5,9]\n",
        "    }\n",
        "}"
      ],
      "execution_count": 29,
      "outputs": []
    },
    {
      "cell_type": "markdown",
      "metadata": {
        "id": "CZcijrMtuY1_"
      },
      "source": [
        "Yêu cầu thêm 4 sinh viên khác theo cấu trúc trên. Và in ra `diem` của sinh vien thứ 3. (Giá trị tùy chọn)\n",
        "Mục đích làm quen với kiểu dict và truy xuất giá trị."
      ]
    },
    {
      "cell_type": "code",
      "metadata": {
        "id": "dqjna9XQu5tH",
        "outputId": "25ab42b8-871e-4f1f-c9d2-3884c1f05724",
        "colab": {
          "base_uri": "https://localhost:8080/"
        }
      },
      "source": [
        "# TODO in diem sinh viên thứ 3\n",
        "print(class_a['sinhvien3']['diem'])"
      ],
      "execution_count": 31,
      "outputs": [
        {
          "output_type": "stream",
          "text": [
            "[7, 8.5, 9]\n"
          ],
          "name": "stdout"
        }
      ]
    },
    {
      "cell_type": "code",
      "metadata": {
        "id": "zX5Ajso3utI8",
        "outputId": "ce774af4-f8ff-420b-8b3a-20afa1326a9f",
        "colab": {
          "base_uri": "https://localhost:8080/"
        }
      },
      "source": [
        "# ví dụ tuoi của sinh vien thứ 2\n",
        "class_a['sinhvien2']['tuoi']"
      ],
      "execution_count": 39,
      "outputs": [
        {
          "output_type": "execute_result",
          "data": {
            "text/plain": [
              "20"
            ]
          },
          "metadata": {
            "tags": []
          },
          "execution_count": 39
        }
      ]
    },
    {
      "cell_type": "markdown",
      "metadata": {
        "id": "XZ55ZrguyRDS"
      },
      "source": [
        "#### B-3\n",
        "Bạn được cung cấp một chuỗi và nhiệm vụ của bạn là hoán đổi các trường hợp. Nói cách khác, chuyển đổi tất cả các chữ cái thường thành chữ hoa và ngược lại.\n",
        "Ví dụ:\n",
        "```\n",
        "Www.HackerRank.com → wWW.hACKERrANK.COM\n",
        "Pythonist 2 → pYTHONIST 2\n",
        "```"
      ]
    },
    {
      "cell_type": "code",
      "metadata": {
        "id": "o1TqoZ3Zyf7Q"
      },
      "source": [
        "def swap_case(s):\n",
        "    # TODO\n",
        "    temp=\"\"\n",
        "    arr=[]\n",
        "    for i in s:\n",
        "      if i.islower()==True:\n",
        "        temp+=i.upper()\n",
        "      elif i.isupper()==True:\n",
        "        temp+=i.lower()\n",
        "      else:\n",
        "        temp+=i;\n",
        "    print(temp)\n",
        "    return"
      ],
      "execution_count": 33,
      "outputs": []
    },
    {
      "cell_type": "code",
      "metadata": {
        "id": "aWdp25kdyhbJ",
        "outputId": "ae04baaf-a941-45f1-921d-fc1e55d15bda",
        "colab": {
          "base_uri": "https://localhost:8080/"
        }
      },
      "source": [
        "swap_case(\"Www.HackerRank.com\")"
      ],
      "execution_count": 34,
      "outputs": [
        {
          "output_type": "stream",
          "text": [
            "wWW.hACKERrANK.COM\n"
          ],
          "name": "stdout"
        }
      ]
    },
    {
      "cell_type": "code",
      "metadata": {
        "id": "Zjbd6tZ3yoho",
        "outputId": "fe21436d-f07f-4079-d366-52241ab9afb3",
        "colab": {
          "base_uri": "https://localhost:8080/"
        }
      },
      "source": [
        "swap_case(\"Pythonist 2\")"
      ],
      "execution_count": 35,
      "outputs": [
        {
          "output_type": "stream",
          "text": [
            "pYTHONIST 2\n"
          ],
          "name": "stdout"
        }
      ]
    },
    {
      "cell_type": "markdown",
      "metadata": {
        "id": "cJjBoKMhytRx"
      },
      "source": [
        "#### B-4\n",
        "Cho một số đếm tổng số chữ số trong một số"
      ]
    },
    {
      "cell_type": "code",
      "metadata": {
        "id": "ry-M1WwB2uWJ"
      },
      "source": [
        "def count_digit(n):\n",
        "    #TODO\n",
        "    dem=1\n",
        "    while(n>=10):\n",
        "        dem+=1\n",
        "        n/=10\n",
        "    print(dem)\n",
        "    pass"
      ],
      "execution_count": 36,
      "outputs": []
    },
    {
      "cell_type": "code",
      "metadata": {
        "id": "riR3YtM72zHN",
        "outputId": "94b34e79-9fea-4537-a7e4-cc5f2f1b2f1f",
        "colab": {
          "base_uri": "https://localhost:8080/"
        }
      },
      "source": [
        "count_digit(4243) # -> 4"
      ],
      "execution_count": 37,
      "outputs": [
        {
          "output_type": "stream",
          "text": [
            "4\n"
          ],
          "name": "stdout"
        }
      ]
    },
    {
      "cell_type": "code",
      "metadata": {
        "id": "L6C3Vig63Hdn"
      },
      "source": [
        ""
      ],
      "execution_count": null,
      "outputs": []
    },
    {
      "cell_type": "markdown",
      "metadata": {
        "id": "apyEqQro3IFi"
      },
      "source": [
        "#### B -5 \n",
        "Hãy thay đổi mức lương của Brad thành 8500"
      ]
    },
    {
      "cell_type": "markdown",
      "metadata": {
        "id": "vNHdeAENCtP_"
      },
      "source": [
        ""
      ]
    },
    {
      "cell_type": "code",
      "metadata": {
        "id": "ozrXx5NL3K0Z"
      },
      "source": [
        "#@title Văn bản tiêu đề mặc định\n",
        "sampleDict = {\n",
        "     'emp1': {'name': 'Jhon', 'salary': 7500},\n",
        "     'emp2': {'name': 'Emma', 'salary': 8000},\n",
        "     'emp3': {'name': 'Brad', 'salary': 6500}\n",
        "}"
      ],
      "execution_count": 63,
      "outputs": []
    },
    {
      "cell_type": "code",
      "metadata": {
        "id": "huSjZTX6CuP1",
        "outputId": "ba02c46b-29ba-44fd-fdf1-9fc24bd4a4be",
        "colab": {
          "base_uri": "https://localhost:8080/"
        }
      },
      "source": [
        "\n",
        "sampleDict[\"emp3\"][\"salary\"]=8500\n",
        "print(sampleDict[\"emp3\"][\"salary\"])"
      ],
      "execution_count": 68,
      "outputs": [
        {
          "output_type": "stream",
          "text": [
            "8500\n"
          ],
          "name": "stdout"
        }
      ]
    },
    {
      "cell_type": "markdown",
      "metadata": {
        "id": "52gflV9JosSz"
      },
      "source": [
        "# OOP\n",
        "\n"
      ]
    },
    {
      "cell_type": "markdown",
      "metadata": {
        "id": "tc8omotYowkO"
      },
      "source": [
        "#### B-1\n",
        "Điền vào các phương thức của lớp Line để chấp nhận tọa độ dưới dạng một cặp bộ giá trị và trả về độ dốc và khoảng cách của đường thẳng."
      ]
    },
    {
      "cell_type": "code",
      "metadata": {
        "id": "bT28n9T3ov4T"
      },
      "source": [
        "import math\n",
        "class Line:\n",
        "    \n",
        "    def __init__(self,x1=3,y1=2,x2=8,y2=10):\n",
        "        self.x1=x1\n",
        "        self.y1=y1\n",
        "        self.x2=x2\n",
        "        self.y2=y2\n",
        "    \n",
        "    def distance(self):\n",
        "        distance = math.sqrt( ((x1-x2)**2)+((y1-y2)**2) )\n",
        "        print(distance)\n",
        "    \n",
        "    def slope(self): # (y2-y1)/(x2-x1)\n",
        "        a = (y2-y1)/(x2-x1)\n",
        "        print(a)"
      ],
      "execution_count": 130,
      "outputs": []
    },
    {
      "cell_type": "code",
      "metadata": {
        "id": "BUVkRmv-o_m6"
      },
      "source": [
        "# EXAMPLE OUTPUT\n",
        "\n",
        "coordinate1 = (3,2)\n",
        "coordinate2 = (8,10)\n",
        "\n",
        "li = Line(coordinate1,coordinate2)"
      ],
      "execution_count": 125,
      "outputs": []
    },
    {
      "cell_type": "code",
      "metadata": {
        "id": "ApDPteErpAEn",
        "outputId": "4311e6dd-a624-4c49-b30f-6aed43b82530",
        "colab": {
          "base_uri": "https://localhost:8080/",
          "height": 168
        }
      },
      "source": [
        "li.distance()"
      ],
      "execution_count": 129,
      "outputs": [
        {
          "output_type": "error",
          "ename": "NameError",
          "evalue": "ignored",
          "traceback": [
            "\u001b[0;31m---------------------------------------------------------------------------\u001b[0m",
            "\u001b[0;31mNameError\u001b[0m                                 Traceback (most recent call last)",
            "\u001b[0;32m<ipython-input-129-92e67454d40d>\u001b[0m in \u001b[0;36m<module>\u001b[0;34m()\u001b[0m\n\u001b[0;32m----> 1\u001b[0;31m \u001b[0mdistance\u001b[0m\u001b[0;34m(\u001b[0m\u001b[0mself\u001b[0m\u001b[0;34m)\u001b[0m\u001b[0;34m\u001b[0m\u001b[0;34m\u001b[0m\u001b[0m\n\u001b[0m",
            "\u001b[0;31mNameError\u001b[0m: name 'distance' is not defined"
          ]
        }
      ]
    },
    {
      "cell_type": "code",
      "metadata": {
        "id": "KVOOJSsYpDus",
        "outputId": "d85e2042-12ee-4005-c753-794f4f388bb2",
        "colab": {
          "base_uri": "https://localhost:8080/",
          "height": 275
        }
      },
      "source": [
        "li.slope()"
      ],
      "execution_count": 121,
      "outputs": [
        {
          "output_type": "error",
          "ename": "NameError",
          "evalue": "ignored",
          "traceback": [
            "\u001b[0;31m---------------------------------------------------------------------------\u001b[0m",
            "\u001b[0;31mNameError\u001b[0m                                 Traceback (most recent call last)",
            "\u001b[0;32m<ipython-input-121-3850261481cf>\u001b[0m in \u001b[0;36m<module>\u001b[0;34m()\u001b[0m\n\u001b[0;32m----> 1\u001b[0;31m \u001b[0mli\u001b[0m\u001b[0;34m.\u001b[0m\u001b[0mslope\u001b[0m\u001b[0;34m(\u001b[0m\u001b[0;34m)\u001b[0m\u001b[0;34m\u001b[0m\u001b[0;34m\u001b[0m\u001b[0m\n\u001b[0m",
            "\u001b[0;32m<ipython-input-116-c71f19734da9>\u001b[0m in \u001b[0;36mslope\u001b[0;34m(self)\u001b[0m\n\u001b[1;32m     12\u001b[0m \u001b[0;34m\u001b[0m\u001b[0m\n\u001b[1;32m     13\u001b[0m     \u001b[0;32mdef\u001b[0m \u001b[0mslope\u001b[0m\u001b[0;34m(\u001b[0m\u001b[0mself\u001b[0m\u001b[0;34m)\u001b[0m\u001b[0;34m:\u001b[0m \u001b[0;31m# (y2-y1)/(x2-x1)\u001b[0m\u001b[0;34m\u001b[0m\u001b[0;34m\u001b[0m\u001b[0m\n\u001b[0;32m---> 14\u001b[0;31m         \u001b[0ma\u001b[0m \u001b[0;34m=\u001b[0m \u001b[0;34m(\u001b[0m\u001b[0my2\u001b[0m\u001b[0;34m-\u001b[0m\u001b[0my1\u001b[0m\u001b[0;34m)\u001b[0m\u001b[0;34m/\u001b[0m\u001b[0;34m(\u001b[0m\u001b[0mx2\u001b[0m\u001b[0;34m-\u001b[0m\u001b[0mx1\u001b[0m\u001b[0;34m)\u001b[0m\u001b[0;34m\u001b[0m\u001b[0;34m\u001b[0m\u001b[0m\n\u001b[0m\u001b[1;32m     15\u001b[0m         \u001b[0mprint\u001b[0m\u001b[0;34m(\u001b[0m\u001b[0ma\u001b[0m\u001b[0;34m)\u001b[0m\u001b[0;34m\u001b[0m\u001b[0;34m\u001b[0m\u001b[0m\n",
            "\u001b[0;31mNameError\u001b[0m: name 'y2' is not defined"
          ]
        }
      ]
    },
    {
      "cell_type": "markdown",
      "metadata": {
        "id": "vA43zn2upHr3"
      },
      "source": [
        "### B-2\n",
        "Hình trụ"
      ]
    },
    {
      "cell_type": "code",
      "metadata": {
        "id": "WSrnmxd8OOin"
      },
      "source": [
        "class Cylinder:\n",
        "    \n",
        "    def __init__(self,height=1,radius=1):\n",
        "        self.height=height\n",
        "        self.radius=radius\n",
        "        \n",
        "    def volume(self): # thể tích\n",
        "         return self.radius*2*self.height"
      ],
      "execution_count": 107,
      "outputs": []
    },
    {
      "cell_type": "code",
      "metadata": {
        "id": "b1NduZJhrYAU"
      },
      "source": [
        "# EXAMPLE OUTPUT\n",
        "c = Cylinder(2,3)"
      ],
      "execution_count": 108,
      "outputs": []
    },
    {
      "cell_type": "code",
      "metadata": {
        "id": "0cZ9_hZ-rZ27",
        "outputId": "718e3953-64f6-449a-f0f4-1071b9043ff5",
        "colab": {
          "base_uri": "https://localhost:8080/"
        }
      },
      "source": [
        "c.volume()"
      ],
      "execution_count": 109,
      "outputs": [
        {
          "output_type": "execute_result",
          "data": {
            "text/plain": [
              "12"
            ]
          },
          "metadata": {
            "tags": []
          },
          "execution_count": 109
        }
      ]
    }
  ]
}